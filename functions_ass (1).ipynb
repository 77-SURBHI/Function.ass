{
  "nbformat": 4,
  "nbformat_minor": 0,
  "metadata": {
    "colab": {
      "provenance": []
    },
    "kernelspec": {
      "name": "python3",
      "display_name": "Python 3"
    },
    "language_info": {
      "name": "python"
    }
  },
  "cells": [
    {
      "cell_type": "markdown",
      "source": [
        "# Functions\n",
        "### Theory Questions:"
      ],
      "metadata": {
        "id": "-kuwL_boWWL2"
      }
    },
    {
      "cell_type": "markdown",
      "source": [
        " 1.  What is the difference between a function and a method in Python?\n",
        "  - A function is a block of code that performs a specific task and is independent. You define it using def outside of any class. And A method is like a function, but it is attached to an object (usually a class instance). Methods are defined inside a class and usually operate on data belonging to that object.\n"
      ],
      "metadata": {
        "id": "Q9niOACIWvhi"
      }
    },
    {
      "cell_type": "code",
      "source": [
        " # function in python\n",
        " def add (a,b):\n",
        "  return a+b\n"
      ],
      "metadata": {
        "id": "RN_gzEC6Xux2"
      },
      "execution_count": null,
      "outputs": []
    },
    {
      "cell_type": "code",
      "source": [
        " result = add (2,3)\n",
        " result"
      ],
      "metadata": {
        "id": "IerVjb23WePX",
        "colab": {
          "base_uri": "https://localhost:8080/"
        },
        "outputId": "dc330bbf-c8f5-4c52-c4cd-d3da7e7b217b"
      },
      "execution_count": null,
      "outputs": [
        {
          "output_type": "execute_result",
          "data": {
            "text/plain": [
              "5"
            ]
          },
          "metadata": {},
          "execution_count": 11
        }
      ]
    },
    {
      "cell_type": "code",
      "source": [
        "# method in python\n"
      ],
      "metadata": {
        "id": "lfp7Wq6yrj3g"
      },
      "execution_count": null,
      "outputs": []
    },
    {
      "cell_type": "markdown",
      "source": [
        " 2. Explain the concept of function arguments and parameters in Python.\n",
        "  - n Python, when defining a function, parameters are the names listed within the parentheses in the function's definition. They act as placeholders for values that the function will receive. Arguments, on the other hand, are the actual values that are passed to the function when it is called. Arguments provide the real data that the parameters will use during the function's execution.\n",
        "\n",
        "  * Parameters = questions you ask (\"What's your name?\")\n",
        "\n",
        "  * Arguments = answers you provide (\"My name is Alice!\")\n",
        "\n",
        "\n",
        "\n"
      ],
      "metadata": {
        "id": "tfAdixigturY"
      }
    },
    {
      "cell_type": "code",
      "source": [
        "  def greet(surbhi):   # <-- 'name' is a parameters\n",
        "    print(\"Hello, {surbhi}\")\n"
      ],
      "metadata": {
        "id": "hgquU1YBugwF"
      },
      "execution_count": null,
      "outputs": []
    },
    {
      "cell_type": "code",
      "source": [
        " greet(\"surbhi\")  # <-- 'Alice' is an arguments"
      ],
      "metadata": {
        "colab": {
          "base_uri": "https://localhost:8080/"
        },
        "id": "hZ4oynyexyYE",
        "outputId": "0a5bbc76-dd99-451b-c503-87d1d38a90af"
      },
      "execution_count": null,
      "outputs": [
        {
          "output_type": "stream",
          "name": "stdout",
          "text": [
            "Hello, {surbhi}\n"
          ]
        }
      ]
    },
    {
      "cell_type": "markdown",
      "source": [
        " 3. What are the different ways to define and call a function in Python?\n",
        " - Functions in Python can be defined in several ways.\n",
        "\n",
        "  (i)  Using the def keyword: This is the standard way to define a function."
      ],
      "metadata": {
        "id": "oEt8j7Q0uf6u"
      }
    },
    {
      "cell_type": "code",
      "source": [
        "       #  using the (def)\n",
        "  def function_name(parameters):\n",
        "        # function body\n",
        "        return value"
      ],
      "metadata": {
        "id": "j0qFd9o66L6x"
      },
      "execution_count": null,
      "outputs": []
    },
    {
      "cell_type": "code",
      "source": [
        "\n",
        "   def function_name(surbhi,):  # surbhi is parameters\n",
        "        result = surbhi # function body\n",
        "        return (result) # returing the value"
      ],
      "metadata": {
        "id": "aIfIwzjQ1ilL"
      },
      "execution_count": null,
      "outputs": []
    },
    {
      "cell_type": "code",
      "source": [
        "  function_name(\"surbhi\")"
      ],
      "metadata": {
        "colab": {
          "base_uri": "https://localhost:8080/",
          "height": 36
        },
        "id": "O0mZBppo3c4P",
        "outputId": "55f0b26b-5e69-4e0c-d306-c7681efdeafa"
      },
      "execution_count": null,
      "outputs": [
        {
          "output_type": "execute_result",
          "data": {
            "text/plain": [
              "'surbhi'"
            ],
            "application/vnd.google.colaboratory.intrinsic+json": {
              "type": "string"
            }
          },
          "metadata": {},
          "execution_count": 32
        }
      ]
    },
    {
      "cell_type": "code",
      "source": [
        "\n",
        " def add(a, b):       # 'a' and 'b' are parameters\n",
        "    result = a + b   # function body\n",
        "    return result    # returning the value"
      ],
      "metadata": {
        "id": "aDOhHw9N2CTg"
      },
      "execution_count": null,
      "outputs": []
    },
    {
      "cell_type": "code",
      "source": [
        " add_result = add(5, 7)\n",
        " add_result"
      ],
      "metadata": {
        "colab": {
          "base_uri": "https://localhost:8080/"
        },
        "id": "e1fMpsol2D6d",
        "outputId": "62b9fb88-6b95-454d-9447-cfef13b3172b"
      },
      "execution_count": null,
      "outputs": [
        {
          "output_type": "execute_result",
          "data": {
            "text/plain": [
              "12"
            ]
          },
          "metadata": {},
          "execution_count": 30
        }
      ]
    },
    {
      "cell_type": "markdown",
      "source": [
        " (ii) Using lambda expressions: These are used to create anonymous functions, which are functions without a name."
      ],
      "metadata": {
        "id": "x5bq41Gq5G34"
      }
    },
    {
      "cell_type": "code",
      "source": [
        " function_name = lambda parameters: expression"
      ],
      "metadata": {
        "id": "_B_N4MOW5sV2"
      },
      "execution_count": null,
      "outputs": []
    },
    {
      "cell_type": "code",
      "source": [
        " add = lambda a, b: a + b\n",
        "\n",
        "print(add(2, 3))"
      ],
      "metadata": {
        "colab": {
          "base_uri": "https://localhost:8080/"
        },
        "id": "4tjVCMJl543m",
        "outputId": "cd6a4780-c2e1-433d-91e7-8f7caf09a453"
      },
      "execution_count": null,
      "outputs": [
        {
          "output_type": "stream",
          "name": "stdout",
          "text": [
            "5\n"
          ]
        }
      ]
    },
    {
      "cell_type": "markdown",
      "source": [
        "(iii) Functions are called by writing the function's name followed by parentheses (). If the function accepts arguments, they should be included within the parentheses. Calling a def defined function."
      ],
      "metadata": {
        "id": "OuAguH4q6x5X"
      }
    },
    {
      "cell_type": "code",
      "source": [
        " def greet(name):\n",
        "    return f\"Namaste, {name}!\"\n",
        "\n",
        "message = greet(\"Rahul\")\n",
        "print(message)\n"
      ],
      "metadata": {
        "colab": {
          "base_uri": "https://localhost:8080/"
        },
        "id": "LOpcBz0q7x2C",
        "outputId": "0287c5d6-a237-405a-d668-f3cfe000f2d8"
      },
      "execution_count": null,
      "outputs": [
        {
          "output_type": "stream",
          "name": "stdout",
          "text": [
            "Namaste, Rahul!\n"
          ]
        }
      ]
    },
    {
      "cell_type": "markdown",
      "source": [
        " (iv) Calling a lambda function"
      ],
      "metadata": {
        "id": "loYSRZxA-Ojg"
      }
    },
    {
      "cell_type": "code",
      "source": [
        "     add = lambda x, y: x + y\n",
        "    result = add(5, 3)"
      ],
      "metadata": {
        "id": "xeL6Qnam-d72"
      },
      "execution_count": null,
      "outputs": []
    },
    {
      "cell_type": "code",
      "source": [
        "  print(result)"
      ],
      "metadata": {
        "colab": {
          "base_uri": "https://localhost:8080/"
        },
        "id": "sqeFy02L-j5j",
        "outputId": "ec99b0c2-7991-4832-dc7f-318ad32c33ec"
      },
      "execution_count": null,
      "outputs": [
        {
          "output_type": "stream",
          "name": "stdout",
          "text": [
            "5\n"
          ]
        }
      ]
    },
    {
      "cell_type": "markdown",
      "source": [
        " (v) def function"
      ],
      "metadata": {
        "id": "vNuX6lcn_x1c"
      }
    },
    {
      "cell_type": "code",
      "source": [
        " \"this is my first function\" + \"in python\""
      ],
      "metadata": {
        "colab": {
          "base_uri": "https://localhost:8080/",
          "height": 36
        },
        "id": "89Yd3bA9ApYD",
        "outputId": "0292390f-b878-44c6-b4af-1072cdb6f9eb"
      },
      "execution_count": null,
      "outputs": [
        {
          "output_type": "execute_result",
          "data": {
            "text/plain": [
              "'this is my first functionin python'"
            ],
            "application/vnd.google.colaboratory.intrinsic+json": {
              "type": "string"
            }
          },
          "metadata": {},
          "execution_count": 65
        }
      ]
    },
    {
      "cell_type": "markdown",
      "source": [
        " 4.  What is the purpose of the `return` statement in a Python function?\n",
        " - The return statement in a Python function serves to exit the function and optionally return a value to the caller. When the return statement is encountered, the function's execution stops immediately, and the value specified after the return keyword (if any) is sent back to the place where the function was called."
      ],
      "metadata": {
        "id": "8HUL1SI2DGfp"
      }
    },
    {
      "cell_type": "code",
      "source": [
        " def sum1(a, b, c):\n",
        "  return a + b + c"
      ],
      "metadata": {
        "id": "roVD304FEllv"
      },
      "execution_count": null,
      "outputs": []
    },
    {
      "cell_type": "code",
      "source": [
        "sum1(5, 8, 6)"
      ],
      "metadata": {
        "colab": {
          "base_uri": "https://localhost:8080/"
        },
        "id": "X90IXTD0DD59",
        "outputId": "fe37eede-3e07-4c2b-e35b-ce9a576f5058"
      },
      "execution_count": null,
      "outputs": [
        {
          "output_type": "execute_result",
          "data": {
            "text/plain": [
              "19"
            ]
          },
          "metadata": {},
          "execution_count": 67
        }
      ]
    },
    {
      "cell_type": "markdown",
      "source": [
        "5.  What are iterators in Python and how do they differ from iterables?\n",
        " - an **iterable** is any python / sequentail structure/data structure that is compable of returing >> it member one at a time. and **iterator** is an object representing a stram of data >> return the data one by one."
      ],
      "metadata": {
        "id": "70hhMft8FFil"
      }
    },
    {
      "cell_type": "code",
      "source": [
        " # this is iterable\n",
        " s = \"pwskills\""
      ],
      "metadata": {
        "id": "SlFfhkmcFB7g"
      },
      "execution_count": null,
      "outputs": []
    },
    {
      "cell_type": "code",
      "source": [
        " for i in s:\n",
        "  print(i)"
      ],
      "metadata": {
        "colab": {
          "base_uri": "https://localhost:8080/"
        },
        "id": "o_PvwVSMJsxZ",
        "outputId": "5cd06c95-e962-4fda-b7e0-ce91dcafea00"
      },
      "execution_count": null,
      "outputs": [
        {
          "output_type": "stream",
          "name": "stdout",
          "text": [
            "p\n",
            "w\n",
            "s\n",
            "k\n",
            "i\n",
            "l\n",
            "l\n",
            "s\n"
          ]
        }
      ]
    },
    {
      "cell_type": "code",
      "source": [
        " # this is iterator\n",
        " iter (s)"
      ],
      "metadata": {
        "colab": {
          "base_uri": "https://localhost:8080/"
        },
        "id": "Uefre0DUJymg",
        "outputId": "c1128103-78ce-4de8-bbf2-c7b7a74de9f0"
      },
      "execution_count": null,
      "outputs": [
        {
          "output_type": "execute_result",
          "data": {
            "text/plain": [
              "<str_ascii_iterator at 0x7eccc6c0c7f0>"
            ]
          },
          "metadata": {},
          "execution_count": 70
        }
      ]
    },
    {
      "cell_type": "code",
      "source": [
        " a = iter(s)"
      ],
      "metadata": {
        "id": "hWEtfXI5KGbq"
      },
      "execution_count": null,
      "outputs": []
    },
    {
      "cell_type": "code",
      "source": [
        " next (a)"
      ],
      "metadata": {
        "colab": {
          "base_uri": "https://localhost:8080/",
          "height": 36
        },
        "id": "-SF0-UaxKFcu",
        "outputId": "73cb0baa-5d15-4041-9b9a-6cef977e31f7"
      },
      "execution_count": null,
      "outputs": [
        {
          "output_type": "execute_result",
          "data": {
            "text/plain": [
              "'p'"
            ],
            "application/vnd.google.colaboratory.intrinsic+json": {
              "type": "string"
            }
          },
          "metadata": {},
          "execution_count": 72
        }
      ]
    },
    {
      "cell_type": "code",
      "source": [
        " next (a)"
      ],
      "metadata": {
        "colab": {
          "base_uri": "https://localhost:8080/",
          "height": 36
        },
        "id": "2-z3T9XrKM8g",
        "outputId": "80446530-beeb-4444-e068-061ac53e2b43"
      },
      "execution_count": null,
      "outputs": [
        {
          "output_type": "execute_result",
          "data": {
            "text/plain": [
              "'w'"
            ],
            "application/vnd.google.colaboratory.intrinsic+json": {
              "type": "string"
            }
          },
          "metadata": {},
          "execution_count": 73
        }
      ]
    },
    {
      "cell_type": "code",
      "source": [
        " next (a)"
      ],
      "metadata": {
        "colab": {
          "base_uri": "https://localhost:8080/",
          "height": 36
        },
        "id": "aCo-gUqxKQlc",
        "outputId": "96a5b55b-d183-41e2-8b66-777de8b07d74"
      },
      "execution_count": null,
      "outputs": [
        {
          "output_type": "execute_result",
          "data": {
            "text/plain": [
              "'s'"
            ],
            "application/vnd.google.colaboratory.intrinsic+json": {
              "type": "string"
            }
          },
          "metadata": {},
          "execution_count": 74
        }
      ]
    },
    {
      "cell_type": "code",
      "source": [
        " next (a)"
      ],
      "metadata": {
        "colab": {
          "base_uri": "https://localhost:8080/",
          "height": 36
        },
        "id": "fLWktPnFKR51",
        "outputId": "11eed2f9-e6f9-4bfd-ae2b-147173a669b6"
      },
      "execution_count": null,
      "outputs": [
        {
          "output_type": "execute_result",
          "data": {
            "text/plain": [
              "'k'"
            ],
            "application/vnd.google.colaboratory.intrinsic+json": {
              "type": "string"
            }
          },
          "metadata": {},
          "execution_count": 75
        }
      ]
    },
    {
      "cell_type": "code",
      "source": [
        " next (a)"
      ],
      "metadata": {
        "colab": {
          "base_uri": "https://localhost:8080/",
          "height": 36
        },
        "id": "8FH-A8g7KUMN",
        "outputId": "9beb2a25-df5f-423f-cc55-46c6e7efa762"
      },
      "execution_count": null,
      "outputs": [
        {
          "output_type": "execute_result",
          "data": {
            "text/plain": [
              "'i'"
            ],
            "application/vnd.google.colaboratory.intrinsic+json": {
              "type": "string"
            }
          },
          "metadata": {},
          "execution_count": 76
        }
      ]
    },
    {
      "cell_type": "code",
      "source": [
        " next (a)"
      ],
      "metadata": {
        "colab": {
          "base_uri": "https://localhost:8080/",
          "height": 36
        },
        "id": "a8x5ryz5KV3V",
        "outputId": "72bdeae0-8182-42da-a5b9-8f939729b80d"
      },
      "execution_count": null,
      "outputs": [
        {
          "output_type": "execute_result",
          "data": {
            "text/plain": [
              "'l'"
            ],
            "application/vnd.google.colaboratory.intrinsic+json": {
              "type": "string"
            }
          },
          "metadata": {},
          "execution_count": 77
        }
      ]
    },
    {
      "cell_type": "code",
      "source": [
        "next (a)"
      ],
      "metadata": {
        "colab": {
          "base_uri": "https://localhost:8080/",
          "height": 36
        },
        "id": "BF6RerO3KW9U",
        "outputId": "23eee353-21b6-4dcd-bb61-acdaff80be6c"
      },
      "execution_count": null,
      "outputs": [
        {
          "output_type": "execute_result",
          "data": {
            "text/plain": [
              "'l'"
            ],
            "application/vnd.google.colaboratory.intrinsic+json": {
              "type": "string"
            }
          },
          "metadata": {},
          "execution_count": 78
        }
      ]
    },
    {
      "cell_type": "code",
      "source": [
        "next (a)"
      ],
      "metadata": {
        "colab": {
          "base_uri": "https://localhost:8080/",
          "height": 36
        },
        "id": "g_KaAwD0KYEm",
        "outputId": "0e520df3-dab7-4868-e639-db974017785e"
      },
      "execution_count": null,
      "outputs": [
        {
          "output_type": "execute_result",
          "data": {
            "text/plain": [
              "'s'"
            ],
            "application/vnd.google.colaboratory.intrinsic+json": {
              "type": "string"
            }
          },
          "metadata": {},
          "execution_count": 79
        }
      ]
    },
    {
      "cell_type": "markdown",
      "source": [
        " 6. Explain the concept of generators in Python and how they are defined.\n",
        " -  A Python generator function allows you to declare a function that behaves like an iterator, providing a faster and easier way to create iterators.\n",
        "    Generators can be defined in two ways:\n",
        " * Using a function with the yield keyword.\n",
        " * Using generator expressions (similar to list comprehensions)."
      ],
      "metadata": {
        "id": "kCXW46fWKloL"
      }
    },
    {
      "cell_type": "code",
      "source": [
        " #Using the function  yield\n",
        " def count_down(min):\n",
        "    while min > 0:\n",
        "        yield min\n",
        "        min -= 1"
      ],
      "metadata": {
        "id": "a34YLS_kNdZy"
      },
      "execution_count": null,
      "outputs": []
    },
    {
      "cell_type": "code",
      "source": [
        " counter = count_down(5) # Create a generator object\n",
        "\n",
        "for num in counter: # Iterate through the values generated by the generator\n",
        "    print(num)"
      ],
      "metadata": {
        "colab": {
          "base_uri": "https://localhost:8080/"
        },
        "id": "i-W3YGKeSlRe",
        "outputId": "69ad1a6f-a22a-44a9-bc37-95cfdd18160f"
      },
      "execution_count": null,
      "outputs": [
        {
          "output_type": "stream",
          "name": "stdout",
          "text": [
            "5\n",
            "4\n",
            "3\n",
            "2\n",
            "1\n"
          ]
        }
      ]
    },
    {
      "cell_type": "code",
      "source": [
        " def count_up_to(max):\n",
        "    count = 1\n",
        "    while count <= max:\n",
        "        yield count  # Yield the current count\n",
        "        count += 1\n",
        "\n",
        "counter = count_up_to(5)\n",
        "for num in counter:\n",
        "    print(num)\n"
      ],
      "metadata": {
        "colab": {
          "base_uri": "https://localhost:8080/"
        },
        "id": "tf2QNKxfQUZr",
        "outputId": "f70e7ee1-a4d3-4798-c9e4-5822341c7837"
      },
      "execution_count": null,
      "outputs": [
        {
          "output_type": "stream",
          "name": "stdout",
          "text": [
            "1\n",
            "2\n",
            "3\n",
            "4\n",
            "5\n"
          ]
        }
      ]
    },
    {
      "cell_type": "code",
      "source": [
        " #  Using generator\n",
        " squares = (x**2 for x in range(1, 6))\n",
        "\n",
        "for square in squares:\n",
        "    print(square)\n"
      ],
      "metadata": {
        "colab": {
          "base_uri": "https://localhost:8080/"
        },
        "id": "U09L99EDS4_5",
        "outputId": "3c770701-c464-4726-d930-2aaec54f25ba"
      },
      "execution_count": null,
      "outputs": [
        {
          "output_type": "stream",
          "name": "stdout",
          "text": [
            "1\n",
            "4\n",
            "9\n",
            "16\n",
            "25\n"
          ]
        }
      ]
    },
    {
      "cell_type": "markdown",
      "source": [
        " 7. What are the advantages of using generators over regular functions?\n",
        " - Generators provide several key advantages over regular functions (such as those returning lists or other data structures), particularly when dealing with large datasets, memory efficiency, and performance.\n",
        "\n",
        "   * Memory Efficiency:- Generators are more memory-efficient compared to regular functions because they don't store the entire sequence of values in memory at once. Instead, they generate values one by one when needed.\n",
        "\n",
        "   * Lazy Evaluation:- Generators evaluate values lazily, meaning they only compute the next value when requested, rather than calculating all values upfront.\n",
        "   \n",
        "   * Infinite Sequences:- Generators can represent infinite sequences, such as counting numbers or mathematical series, without running out of memory."
      ],
      "metadata": {
        "id": "ARHkrK1oTVip"
      }
    },
    {
      "cell_type": "code",
      "source": [
        " #Memory Efficiency\n",
        " def large_range(n):\n",
        "    for i in range(n):\n",
        "        yield i\n"
      ],
      "metadata": {
        "id": "FlFvbcNMTUM6"
      },
      "execution_count": null,
      "outputs": []
    },
    {
      "cell_type": "code",
      "source": [
        " #Lazy Evaluation\n",
        " def even_numbers(n):\n",
        "    for i in range(0, n, 2):\n",
        "        yield i\n"
      ],
      "metadata": {
        "id": "_g6N6TaEWohy"
      },
      "execution_count": null,
      "outputs": []
    },
    {
      "cell_type": "code",
      "source": [
        " #Infinite Sequences\n",
        " def infinite_count():\n",
        "    count = 1\n",
        "    while True:\n",
        "        yield count\n",
        "        count += 1\n"
      ],
      "metadata": {
        "id": "wemB_GETWouS"
      },
      "execution_count": null,
      "outputs": []
    },
    {
      "cell_type": "markdown",
      "source": [
        " 8. What is a lambda function in Python and when is it typically used?\n",
        " - A lambda function is a small, anonymous function in Python that is defined using the lambda keyword. Unlike regular functions defined with the def keyword, lambda functions are often used for short, throwaway functions that are used only once or for simple operations.\n",
        "  * syntax:\n",
        "\n",
        "  (i) arguments:- This is a list of parameters that the lambda function will take (just like normal function arguments).\n",
        "\n",
        " (ii)expression:- This is a single expression that the lambda function evaluates and returns. Unlike regular functions, lambda functions can only contain a single expression."
      ],
      "metadata": {
        "id": "AaozxH5gXBxi"
      }
    },
    {
      "cell_type": "code",
      "source": [
        " # A simple lambda function that adds two numbers\n",
        "add = lambda x, y: x + y"
      ],
      "metadata": {
        "id": "WEYgcJwiYFtq"
      },
      "execution_count": null,
      "outputs": []
    },
    {
      "cell_type": "code",
      "source": [
        " print(add(5, 3))"
      ],
      "metadata": {
        "colab": {
          "base_uri": "https://localhost:8080/"
        },
        "id": "V6KIHswwYLqX",
        "outputId": "9a4dca94-ef1c-48d6-bc36-c1efc32fda1a"
      },
      "execution_count": null,
      "outputs": [
        {
          "output_type": "stream",
          "name": "stdout",
          "text": [
            "8\n"
          ]
        }
      ]
    },
    {
      "cell_type": "markdown",
      "source": [
        " 9. Explain the purpose and usage of the `map()` function in Python.\n",
        " - The map() function in Python is a built-in function that allows you to apply a given function to all the items in an iterable (such as a list, tuple, or set) and return a new iterable (usually a map object) that contains the results of applying that function to each item.\n"
      ],
      "metadata": {
        "id": "UY3w4ImTYOSU"
      }
    },
    {
      "cell_type": "code",
      "source": [
        " numbers = [ 2,  4, 6]\n",
        "squared = map(lambda x: x**2, numbers)\n",
        "print(list(squared))\n"
      ],
      "metadata": {
        "id": "qBdVJZydbZIC",
        "colab": {
          "base_uri": "https://localhost:8080/"
        },
        "outputId": "503b174f-96bf-4a49-aa2f-98e5dc1dbcf9"
      },
      "execution_count": null,
      "outputs": [
        {
          "output_type": "stream",
          "name": "stdout",
          "text": [
            "[4, 16, 36]\n"
          ]
        }
      ]
    },
    {
      "cell_type": "code",
      "source": [
        "def square(x):\n",
        "    return x * x\n",
        "\n",
        "numbers = [1, 2, 3, 4, 5]\n",
        "squared_numbers = map(square, numbers)\n",
        "\n",
        "print(list(squared_numbers))"
      ],
      "metadata": {
        "colab": {
          "base_uri": "https://localhost:8080/"
        },
        "id": "USMnDx8HB9b5",
        "outputId": "ee19a716-04d5-4bcd-eac1-7db97ae2df09"
      },
      "execution_count": null,
      "outputs": [
        {
          "output_type": "stream",
          "name": "stdout",
          "text": [
            "[1, 4, 9, 16, 25]\n"
          ]
        }
      ]
    },
    {
      "cell_type": "markdown",
      "source": [
        " 10.  What is the difference between `map()`, `reduce()`, and `filter()` functions in Python?\n",
        "- Map( ), Filter( ), and Reduce( ) are built-in functions in Python that operate on iterables (like lists, tuples, etc.) and are often used in functional programming. They each serve different purposes:\n",
        "     \n",
        "    *   map() = \"Change\" every element.\n",
        "\n",
        "    * filter() = \"Keep\" some elements.\n",
        "\n",
        "    * reduce() = \"Combine\" everything into one result.\n",
        "\n",
        " 11. Using pen & Paper write the internal mechanism for sum operation using  reduce function on this given\n",
        "list:[47,11,42,13];\n",
        "     "
      ],
      "metadata": {
        "id": "kf4EKtY9FHRn"
      }
    },
    {
      "cell_type": "code",
      "source": [
        " from functools import reduce\n",
        "reduce(lambda x, y: x + y, [47, 11, 42, 13])\n"
      ],
      "metadata": {
        "colab": {
          "base_uri": "https://localhost:8080/"
        },
        "id": "7OjL7cuNLmrn",
        "outputId": "a8b03f17-3dd9-4749-998a-1c4c9d90650f"
      },
      "execution_count": null,
      "outputs": [
        {
          "output_type": "execute_result",
          "data": {
            "text/plain": [
              "113"
            ]
          },
          "metadata": {},
          "execution_count": 31
        }
      ]
    },
    {
      "cell_type": "markdown",
      "source": [
        " # Practical Questions:\n"
      ],
      "metadata": {
        "id": "fh9N_tIOofgw"
      }
    },
    {
      "cell_type": "markdown",
      "source": [
        " 1.  Write a Python function that takes a list of numbers as input and returns the sum of all even numbers in\n",
        "the list.\n",
        " - def sum_of_evens(numbers):\n",
        "   "
      ],
      "metadata": {
        "id": "gPHW6RRqo86J"
      }
    },
    {
      "cell_type": "code",
      "source": [
        " def sum_of_evens(numbers):\n",
        "    total = 0\n",
        "    for num in numbers:\n",
        "        if num % 2 == 0:\n",
        "            total += num\n",
        "    return total"
      ],
      "metadata": {
        "id": "z94fHpX0on4_"
      },
      "execution_count": 29,
      "outputs": []
    },
    {
      "cell_type": "markdown",
      "source": [
        "2. . Create a Python function that accepts a string and returns the reverse of that string."
      ],
      "metadata": {
        "id": "K-6KsBqUvUiw"
      }
    },
    {
      "cell_type": "code",
      "source": [
        " def reverse_string(s):\n",
        "    return s[::-1]\n",
        "\n",
        "# Example usage\n",
        "input_str = \"hello\"\n",
        "reversed_str = reverse_string(input_str)\n",
        "print(reversed_str)  # Output: \"olleh\"\n"
      ],
      "metadata": {
        "id": "aihnW4drvaXD",
        "colab": {
          "base_uri": "https://localhost:8080/"
        },
        "outputId": "7626043d-fcd3-4d8a-8bed-9b84950a1c48"
      },
      "execution_count": 32,
      "outputs": [
        {
          "output_type": "stream",
          "name": "stdout",
          "text": [
            "olleh\n"
          ]
        }
      ]
    },
    {
      "cell_type": "markdown",
      "source": [
        " 3.. Implement a Python function that takes a list of integers and returns a new list containing the squares of\n",
        "each number."
      ],
      "metadata": {
        "id": "8m9W6P6yva2z"
      }
    },
    {
      "cell_type": "code",
      "source": [
        " def square_numbers(numbers):\n",
        "    return [num ** 2 for num in numbers]"
      ],
      "metadata": {
        "id": "H0xTUX_Dvk8U"
      },
      "execution_count": 36,
      "outputs": []
    },
    {
      "cell_type": "code",
      "source": [
        "   nums = [1, 2, 3, 4, 5]\n",
        "squared = square_numbers(nums)\n",
        "print(squared)"
      ],
      "metadata": {
        "colab": {
          "base_uri": "https://localhost:8080/"
        },
        "id": "s0qUbO_EK1R9",
        "outputId": "ae0bf8b2-411d-42cd-d631-87c3acf36b60"
      },
      "execution_count": 37,
      "outputs": [
        {
          "output_type": "stream",
          "name": "stdout",
          "text": [
            "[1, 4, 9, 16, 25]\n"
          ]
        }
      ]
    },
    {
      "cell_type": "markdown",
      "source": [
        " 4. Write a Python function that checks if a given number is prime or not from 1 to 200."
      ],
      "metadata": {
        "id": "7D34o43EvlRr"
      }
    },
    {
      "cell_type": "code",
      "source": [
        " if is_prime(num):\n",
        "    if num <=1:\n",
        "        return False\n",
        "    for i in range(2, int(num**0.5) + 1):\n",
        "        if num % i == 0:\n",
        "            return False\n",
        "\n",
        "\n",
        " for n in range(1,limit +1):\n",
        "    if is_prime(n):\n",
        "        print(f\"{n} is a prime number\")\n",
        "    else:\n",
        "        print(f\"{n} is not a prime number\")"
      ],
      "metadata": {
        "colab": {
          "base_uri": "https://localhost:8080/",
          "height": 106
        },
        "id": "sn7cJdu2HYv1",
        "outputId": "e6d58f18-a91c-401d-d2cf-ff704f495a4d"
      },
      "execution_count": 41,
      "outputs": [
        {
          "output_type": "error",
          "ename": "SyntaxError",
          "evalue": "'return' outside function (<ipython-input-41-68d85f82773d>, line 3)",
          "traceback": [
            "\u001b[0;36m  File \u001b[0;32m\"<ipython-input-41-68d85f82773d>\"\u001b[0;36m, line \u001b[0;32m3\u001b[0m\n\u001b[0;31m    return False\u001b[0m\n\u001b[0m    ^\u001b[0m\n\u001b[0;31mSyntaxError\u001b[0m\u001b[0;31m:\u001b[0m 'return' outside function\n"
          ]
        }
      ]
    },
    {
      "cell_type": "markdown",
      "source": [
        " 5.  Create an iterator class in Python that generates the Fibonacci sequence up to a specified number of terms."
      ],
      "metadata": {
        "id": "XWirYIkSvofI"
      }
    },
    {
      "cell_type": "code",
      "source": [
        " fib_iter = FibonacciIterator(10)\n",
        "for num in fib_iter:\n",
        "    print(num)"
      ],
      "metadata": {
        "colab": {
          "base_uri": "https://localhost:8080/"
        },
        "id": "P1zbkAcfFTDY",
        "outputId": "886248e8-ab15-48de-ae5a-013b850e85a4"
      },
      "execution_count": 17,
      "outputs": [
        {
          "output_type": "stream",
          "name": "stdout",
          "text": [
            "0\n",
            "1\n",
            "1\n",
            "2\n",
            "3\n",
            "5\n",
            "8\n",
            "13\n",
            "21\n",
            "34\n"
          ]
        }
      ]
    },
    {
      "cell_type": "markdown",
      "source": [
        "6. Write a generator function in Python that yields the powers of 2 up to a given exponent."
      ],
      "metadata": {
        "id": "AiYiFfzgvtv4"
      }
    },
    {
      "cell_type": "code",
      "source": [
        " def powers_of_two(max_exponent):\n",
        "    for exponent in range(max_exponent + 1):\n",
        "        yield 2 ** exponent\n"
      ],
      "metadata": {
        "id": "ZbfeLCu9vz29"
      },
      "execution_count": 3,
      "outputs": []
    },
    {
      "cell_type": "code",
      "source": [
        "  for value in powers_of_two(5):\n",
        "    print(value)"
      ],
      "metadata": {
        "colab": {
          "base_uri": "https://localhost:8080/"
        },
        "id": "ySOvZLL2AG5A",
        "outputId": "4683d299-3e98-43f0-9344-2199c04094fb"
      },
      "execution_count": 7,
      "outputs": [
        {
          "output_type": "stream",
          "name": "stdout",
          "text": [
            "1\n",
            "2\n",
            "4\n",
            "8\n",
            "16\n",
            "32\n"
          ]
        }
      ]
    },
    {
      "cell_type": "markdown",
      "source": [
        " 7.  Implement a generator function that reads a file line by line and yields each line as a string."
      ],
      "metadata": {
        "id": "IF4CHsYIv1FU"
      }
    },
    {
      "cell_type": "code",
      "source": [
        " def read_file_line_by_line(filepath):\n",
        "    with open(filepath, 'r') as file:\n",
        "        for line in file:\n",
        "            yield line.rstrip('\\n')  # Remove trailing newline character\n",
        "\n",
        "# Example usage:\n",
        "# for line in read_file_line_by_line('example.txt'):\n",
        "#     print(line)\n"
      ],
      "metadata": {
        "id": "d4DRNfMnEFjU"
      },
      "execution_count": 1,
      "outputs": []
    },
    {
      "cell_type": "markdown",
      "source": [
        " 8. Use a lambda function in Python to sort a list of tuples based on the second element of each tuple."
      ],
      "metadata": {
        "id": "vUe21pfuv81o"
      }
    },
    {
      "cell_type": "code",
      "source": [
        " # Example list of tuples\n",
        "list_of_tuples = [(1, 3), (2, 1), (4, 2), (5, 0)]\n",
        "\n",
        "# Sort based on the second element\n",
        "sorted_list = sorted(list_of_tuples, key=lambda x: x[1])\n",
        "\n",
        "print(sorted_list)\n"
      ],
      "metadata": {
        "colab": {
          "base_uri": "https://localhost:8080/"
        },
        "id": "P5W_FYGVwFpq",
        "outputId": "c78c8afd-882e-47ab-fdfd-7a523799837e"
      },
      "execution_count": null,
      "outputs": [
        {
          "output_type": "stream",
          "name": "stdout",
          "text": [
            "[(5, 0), (2, 1), (4, 2), (1, 3)]\n"
          ]
        }
      ]
    },
    {
      "cell_type": "markdown",
      "source": [
        "9.  Write a Python program that uses `map()` to convert a list of temperatures from Celsius to Fahrenheit"
      ],
      "metadata": {
        "id": "PVcteuauwF9i"
      }
    },
    {
      "cell_type": "code",
      "source": [
        " # Function to convert Celsius to Fahrenheit\n",
        "def celsius_to_fahrenheit(celsius):\n",
        "    return (celsius * 9/5) + 32\n",
        "\n",
        "# List of temperatures in Celsius\n",
        "celsius_temps = [0, 25, 30, 37, 100]\n",
        "\n",
        "# Use map() to convert the list of temperatures to Fahrenheit. [Fahrenheit = (celsius*9/5)+32]\n",
        "fahrenheit_temps = list(map(celsius_to_fahrenheit, celsius_temps))\n",
        "\n",
        "# Print the Fahrenheit temperatures\n",
        "print(fahrenheit_temps)\n"
      ],
      "metadata": {
        "colab": {
          "base_uri": "https://localhost:8080/"
        },
        "id": "ZsdoOxR7wQ-m",
        "outputId": "4d35f9f1-3c5a-4c81-8a99-5e797063cb8e"
      },
      "execution_count": null,
      "outputs": [
        {
          "output_type": "stream",
          "name": "stdout",
          "text": [
            "[32.0, 77.0, 86.0, 98.6, 212.0]\n"
          ]
        }
      ]
    },
    {
      "cell_type": "markdown",
      "source": [
        "10. Create a Python program that uses `filter()` to remove all the vowels from a given string."
      ],
      "metadata": {
        "id": "8lS20tk3wRSU"
      }
    },
    {
      "cell_type": "code",
      "source": [
        "def remove_vowels(input_string):\n",
        "    vowels = 'aeiouAEIOU'\n",
        "    # Use filter to exclude characters that are vowels\n",
        "    result = ''.join(filter(lambda char: char not in vowels, input_string))\n",
        "    return result"
      ],
      "metadata": {
        "id": "Oy3pn2109F3J"
      },
      "execution_count": null,
      "outputs": []
    },
    {
      "cell_type": "code",
      "source": [
        " input_string = \"surbhi\"\n",
        "output_string = remove_vowels(\"surbhi\")\n",
        "print(output_string)"
      ],
      "metadata": {
        "colab": {
          "base_uri": "https://localhost:8080/"
        },
        "id": "7bm1rsEPAgBN",
        "outputId": "4442f809-63bd-4295-bb73-ca77a54141c5"
      },
      "execution_count": null,
      "outputs": [
        {
          "output_type": "stream",
          "name": "stdout",
          "text": [
            "srbh\n"
          ]
        }
      ]
    },
    {
      "cell_type": "markdown",
      "source": [
        " 11. ) Imagine an accounting routine used in a book shop. It works on a list with sublists, which look like this"
      ],
      "metadata": {
        "id": "Yf2REtPOwYkV"
      }
    },
    {
      "cell_type": "code",
      "source": [
        " # The input list\n",
        "orders = [\n",
        "    [34587, \"Learning Python, Mark Lutz\", 4, 40.95],  # 4*40.95=163.8>100\n",
        "    [98762, \"Programming Python, Mark Lutz\", 5, 56.80], # 5*56.80=284.0>100\n",
        "    [77226, \"Head First Python, Paul Barry\", 3, 32.95], # 3*32.95=98.85<100(98.85+10=108.85)\n",
        "    [88112, \"Einführung in Python3, Bernd Klein\", 3, 24.99] # 3*24.99=74.97<100(74.97+10=84.97)\n",
        "]\n",
        "\n",
        "# Using map and lambda\n",
        "result = list(map(lambda order: (order[0], order[2] * order[3] if order[2] * order[3] >= 100 else order[2] * order[3] + 10), orders))\n",
        "\n",
        "print(result)\n"
      ],
      "metadata": {
        "colab": {
          "base_uri": "https://localhost:8080/"
        },
        "id": "0HP2CZyQ21eX",
        "outputId": "98be85f5-9cb7-4297-9be6-460352cc1885"
      },
      "execution_count": null,
      "outputs": [
        {
          "output_type": "stream",
          "name": "stdout",
          "text": [
            "[(34587, 163.8), (98762, 284.0), (77226, 108.85000000000001), (88112, 84.97)]\n"
          ]
        }
      ]
    }
  ]
}